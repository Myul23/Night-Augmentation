{
 "cells": [
  {
   "cell_type": "code",
   "execution_count": 10,
   "metadata": {},
   "outputs": [],
   "source": [
    "import os\n",
    "from glob import glob\n",
    "\n",
    "import numpy as np\n",
    "import tensorflow as tf\n",
    "\n",
    "from tensorflow.keras.preprocessing.image import ImageDataGenerator\n",
    "from tensorflow.keras.applications import ResNet50\n",
    "from tensorflow.keras.models import Sequential\n",
    "from tensorflow.keras.layers import Flatten, Dense\n",
    "\n",
    "import matplotlib.pyplot as plt\n",
    "\n",
    "%matplotlib inline"
   ]
  },
  {
   "cell_type": "code",
   "execution_count": 11,
   "metadata": {},
   "outputs": [],
   "source": [
    "name = \"making_transfer_learning_resnet50_100\"\n",
    "address = \"C:\\making\" # \"C:/add_crawling\""
   ]
  },
  {
   "cell_type": "markdown",
   "metadata": {},
   "source": [
    "### data generator\n",
    "\n",
    "- ImageDataGenerator에서 label은 folder 명"
   ]
  },
  {
   "cell_type": "code",
   "execution_count": 12,
   "metadata": {},
   "outputs": [
    {
     "name": "stdout",
     "output_type": "stream",
     "text": [
      "Found 1201 images belonging to 3 classes.\n"
     ]
    }
   ],
   "source": [
    "train_datagen = ImageDataGenerator(\n",
    "    rescale=1./255, rotation_range=20, width_shift_range=0.1, height_shift_range=0.1,\n",
    "    shear_range=0.1, zoom_range=0.1, horizontal_flip=True, fill_mode=\"nearest\")\n",
    "train_generator = train_datagen.flow_from_directory(address, target_size=(300, 300), shuffle=True, batch_size=20, class_mode=\"categorical\")\n"
   ]
  },
  {
   "cell_type": "markdown",
   "metadata": {},
   "source": [
    "### model"
   ]
  },
  {
   "cell_type": "code",
   "execution_count": 13,
   "metadata": {},
   "outputs": [],
   "source": [
    "# conv = VGG16(input_shape=(300, 300, 3), weights=\"imagenet\", include_top=False)\n",
    "conv = ResNet50(input_shape=(300, 300, 3), weights=\"imagenet\", include_top=False)\n",
    "conv.trainable = False\n",
    "\n",
    "# set_trainable = False\n",
    "# for layer in conv.layers:\n",
    "#     if layer.name == \"block5_conv1\":\n",
    "#         set_trainable = True\n",
    "#     if set_trainable:\n",
    "#         layer.trainable = True\n",
    "#     else:\n",
    "#         layer.trainable = False"
   ]
  },
  {
   "cell_type": "code",
   "execution_count": 14,
   "metadata": {},
   "outputs": [],
   "source": [
    "model = Sequential()\n",
    "model.add(conv)\n",
    "model.add(Flatten())\n",
    "model.add(Dense(256, activation=\"relu\"))\n",
    "model.add(Dense(3, activation=\"softmax\"))"
   ]
  },
  {
   "cell_type": "code",
   "execution_count": 15,
   "metadata": {},
   "outputs": [],
   "source": [
    "model.compile(loss=\"categorical_crossentropy\", optimizer=\"adam\", metrics=[\"accuracy\"])"
   ]
  },
  {
   "cell_type": "code",
   "execution_count": 16,
   "metadata": {},
   "outputs": [
    {
     "name": "stderr",
     "output_type": "stream",
     "text": [
      "C:\\Users\\User\\AppData\\Local\\Temp/ipykernel_20900/2874990499.py:1: UserWarning: `Model.fit_generator` is deprecated and will be removed in a future version. Please use `Model.fit`, which supports generators.\n",
      "  history = model.fit_generator(train_generator, steps_per_epoch=20, epochs=100)\n"
     ]
    },
    {
     "name": "stdout",
     "output_type": "stream",
     "text": [
      "Epoch 1/100\n",
      "20/20 [==============================] - 9s 350ms/step - loss: 21.6729 - accuracy: 0.4100\n",
      "Epoch 2/100\n",
      "20/20 [==============================] - 7s 356ms/step - loss: 1.6986 - accuracy: 0.5425\n",
      "Epoch 3/100\n",
      "20/20 [==============================] - 7s 340ms/step - loss: 1.5749 - accuracy: 0.5197\n",
      "Epoch 4/100\n",
      "20/20 [==============================] - 7s 345ms/step - loss: 1.0963 - accuracy: 0.5643\n",
      "Epoch 5/100\n",
      "20/20 [==============================] - 7s 342ms/step - loss: 1.0543 - accuracy: 0.5900\n",
      "Epoch 6/100\n",
      "20/20 [==============================] - 7s 344ms/step - loss: 0.8601 - accuracy: 0.6350\n",
      "Epoch 7/100\n",
      "20/20 [==============================] - 7s 342ms/step - loss: 0.7749 - accuracy: 0.6575\n",
      "Epoch 8/100\n",
      "20/20 [==============================] - 7s 329ms/step - loss: 1.4409 - accuracy: 0.5643\n",
      "Epoch 9/100\n",
      "20/20 [==============================] - 7s 331ms/step - loss: 1.2400 - accuracy: 0.5958\n",
      "Epoch 10/100\n",
      "20/20 [==============================] - 7s 342ms/step - loss: 1.0212 - accuracy: 0.6575\n",
      "Epoch 11/100\n",
      "20/20 [==============================] - 7s 344ms/step - loss: 0.6371 - accuracy: 0.7165\n",
      "Epoch 12/100\n",
      "20/20 [==============================] - 7s 340ms/step - loss: 0.7154 - accuracy: 0.7150\n",
      "Epoch 13/100\n",
      "20/20 [==============================] - 7s 325ms/step - loss: 0.4977 - accuracy: 0.8005\n",
      "Epoch 14/100\n",
      "20/20 [==============================] - 7s 342ms/step - loss: 0.5488 - accuracy: 0.7575\n",
      "Epoch 15/100\n",
      "20/20 [==============================] - 7s 333ms/step - loss: 0.5716 - accuracy: 0.7402\n",
      "Epoch 16/100\n",
      "20/20 [==============================] - 8s 420ms/step - loss: 0.4091 - accuracy: 0.8025\n",
      "Epoch 17/100\n",
      "20/20 [==============================] - 8s 375ms/step - loss: 0.4062 - accuracy: 0.8250\n",
      "Epoch 18/100\n",
      "20/20 [==============================] - 7s 344ms/step - loss: 0.6278 - accuracy: 0.7275\n",
      "Epoch 19/100\n",
      "20/20 [==============================] - 7s 341ms/step - loss: 0.5259 - accuracy: 0.7800\n",
      "Epoch 20/100\n",
      "20/20 [==============================] - 7s 320ms/step - loss: 0.5709 - accuracy: 0.7559\n",
      "Epoch 21/100\n",
      "20/20 [==============================] - 7s 341ms/step - loss: 0.4667 - accuracy: 0.7975\n",
      "Epoch 22/100\n",
      "20/20 [==============================] - 7s 323ms/step - loss: 0.3305 - accuracy: 0.8583\n",
      "Epoch 23/100\n",
      "20/20 [==============================] - 7s 342ms/step - loss: 1.1504 - accuracy: 0.6225\n",
      "Epoch 24/100\n",
      "20/20 [==============================] - 7s 342ms/step - loss: 0.4633 - accuracy: 0.7850\n",
      "Epoch 25/100\n",
      "20/20 [==============================] - 7s 340ms/step - loss: 0.3642 - accuracy: 0.8400\n",
      "Epoch 26/100\n",
      "20/20 [==============================] - 7s 342ms/step - loss: 0.4130 - accuracy: 0.7975\n",
      "Epoch 27/100\n",
      "20/20 [==============================] - 7s 339ms/step - loss: 0.4252 - accuracy: 0.7825\n",
      "Epoch 28/100\n",
      "20/20 [==============================] - 7s 338ms/step - loss: 0.4686 - accuracy: 0.7900\n",
      "Epoch 29/100\n",
      "20/20 [==============================] - 7s 323ms/step - loss: 0.6055 - accuracy: 0.7585\n",
      "Epoch 30/100\n",
      "20/20 [==============================] - 7s 341ms/step - loss: 0.5809 - accuracy: 0.7500\n",
      "Epoch 31/100\n",
      "20/20 [==============================] - 7s 325ms/step - loss: 0.4681 - accuracy: 0.7664\n",
      "Epoch 32/100\n",
      "20/20 [==============================] - 7s 327ms/step - loss: 0.3391 - accuracy: 0.8373\n",
      "Epoch 33/100\n",
      "20/20 [==============================] - 7s 344ms/step - loss: 0.3529 - accuracy: 0.8350\n",
      "Epoch 34/100\n",
      "20/20 [==============================] - 7s 339ms/step - loss: 0.3566 - accuracy: 0.8475\n",
      "Epoch 35/100\n",
      "20/20 [==============================] - 7s 341ms/step - loss: 0.3844 - accuracy: 0.8300\n",
      "Epoch 36/100\n",
      "20/20 [==============================] - 7s 339ms/step - loss: 0.5914 - accuracy: 0.7375\n",
      "Epoch 37/100\n",
      "20/20 [==============================] - 7s 341ms/step - loss: 0.3191 - accuracy: 0.8675\n",
      "Epoch 38/100\n",
      "20/20 [==============================] - 7s 346ms/step - loss: 0.2414 - accuracy: 0.9150\n",
      "Epoch 39/100\n",
      "20/20 [==============================] - 7s 341ms/step - loss: 0.3382 - accuracy: 0.8600\n",
      "Epoch 40/100\n",
      "20/20 [==============================] - 7s 327ms/step - loss: 0.8674 - accuracy: 0.6483\n",
      "Epoch 41/100\n",
      "20/20 [==============================] - 7s 343ms/step - loss: 0.4422 - accuracy: 0.8000\n",
      "Epoch 42/100\n",
      "20/20 [==============================] - 7s 330ms/step - loss: 0.7358 - accuracy: 0.6798\n",
      "Epoch 43/100\n",
      "20/20 [==============================] - 7s 341ms/step - loss: 0.8537 - accuracy: 0.6825\n",
      "Epoch 44/100\n",
      "20/20 [==============================] - 7s 328ms/step - loss: 0.6097 - accuracy: 0.7454\n",
      "Epoch 45/100\n",
      "20/20 [==============================] - 8s 413ms/step - loss: 0.2191 - accuracy: 0.9108\n",
      "Epoch 46/100\n",
      "20/20 [==============================] - 8s 368ms/step - loss: 0.2934 - accuracy: 0.8850\n",
      "Epoch 47/100\n",
      "20/20 [==============================] - 7s 328ms/step - loss: 0.2779 - accuracy: 0.9081\n",
      "Epoch 48/100\n",
      "20/20 [==============================] - 7s 328ms/step - loss: 0.2772 - accuracy: 0.8871\n",
      "Epoch 49/100\n",
      "20/20 [==============================] - 7s 327ms/step - loss: 0.4312 - accuracy: 0.8241\n",
      "Epoch 50/100\n",
      "20/20 [==============================] - 7s 342ms/step - loss: 0.4151 - accuracy: 0.7950\n",
      "Epoch 51/100\n",
      "20/20 [==============================] - 7s 347ms/step - loss: 0.2732 - accuracy: 0.8800\n",
      "Epoch 52/100\n",
      "20/20 [==============================] - 7s 330ms/step - loss: 0.2298 - accuracy: 0.9134\n",
      "Epoch 53/100\n",
      "20/20 [==============================] - 7s 344ms/step - loss: 0.4580 - accuracy: 0.7650\n",
      "Epoch 54/100\n",
      "20/20 [==============================] - 9s 450ms/step - loss: 0.3925 - accuracy: 0.8125\n",
      "Epoch 55/100\n",
      "20/20 [==============================] - 7s 341ms/step - loss: 0.3071 - accuracy: 0.8625\n",
      "Epoch 56/100\n",
      "20/20 [==============================] - 7s 337ms/step - loss: 0.3857 - accuracy: 0.8125\n",
      "Epoch 57/100\n",
      "20/20 [==============================] - 7s 321ms/step - loss: 0.3227 - accuracy: 0.8583\n",
      "Epoch 58/100\n",
      "20/20 [==============================] - 7s 340ms/step - loss: 0.3116 - accuracy: 0.8550\n",
      "Epoch 59/100\n",
      "20/20 [==============================] - 7s 326ms/step - loss: 0.3864 - accuracy: 0.8241\n",
      "Epoch 60/100\n",
      "20/20 [==============================] - 7s 326ms/step - loss: 0.2774 - accuracy: 0.8871\n",
      "Epoch 61/100\n",
      "20/20 [==============================] - 7s 341ms/step - loss: 0.1859 - accuracy: 0.9300\n",
      "Epoch 62/100\n",
      "20/20 [==============================] - 7s 331ms/step - loss: 0.2934 - accuracy: 0.8714\n",
      "Epoch 63/100\n",
      "20/20 [==============================] - 7s 339ms/step - loss: 0.5097 - accuracy: 0.7575\n",
      "Epoch 64/100\n",
      "20/20 [==============================] - 7s 342ms/step - loss: 0.4101 - accuracy: 0.8200\n",
      "Epoch 65/100\n",
      "20/20 [==============================] - 7s 345ms/step - loss: 0.2115 - accuracy: 0.9200\n",
      "Epoch 66/100\n",
      "20/20 [==============================] - 7s 342ms/step - loss: 0.2150 - accuracy: 0.8950\n",
      "Epoch 67/100\n",
      "20/20 [==============================] - 7s 339ms/step - loss: 0.2381 - accuracy: 0.9125\n",
      "Epoch 68/100\n",
      "20/20 [==============================] - 7s 327ms/step - loss: 0.2865 - accuracy: 0.8740\n",
      "Epoch 69/100\n",
      "20/20 [==============================] - 7s 322ms/step - loss: 0.2661 - accuracy: 0.9134\n",
      "Epoch 70/100\n",
      "20/20 [==============================] - 7s 341ms/step - loss: 0.2146 - accuracy: 0.9275\n",
      "Epoch 71/100\n",
      "20/20 [==============================] - 7s 338ms/step - loss: 0.2377 - accuracy: 0.9000\n",
      "Epoch 72/100\n",
      "20/20 [==============================] - 7s 325ms/step - loss: 0.2753 - accuracy: 0.8924\n",
      "Epoch 73/100\n",
      "20/20 [==============================] - 7s 342ms/step - loss: 0.2176 - accuracy: 0.9275\n",
      "Epoch 74/100\n",
      "20/20 [==============================] - 7s 339ms/step - loss: 0.1803 - accuracy: 0.9350\n",
      "Epoch 75/100\n",
      "20/20 [==============================] - 7s 339ms/step - loss: 0.1791 - accuracy: 0.9400\n",
      "Epoch 76/100\n",
      "20/20 [==============================] - 7s 338ms/step - loss: 0.2235 - accuracy: 0.9025\n",
      "Epoch 77/100\n",
      "20/20 [==============================] - 7s 338ms/step - loss: 0.3082 - accuracy: 0.8900\n",
      "Epoch 78/100\n",
      "20/20 [==============================] - 7s 341ms/step - loss: 0.2001 - accuracy: 0.9225\n",
      "Epoch 79/100\n",
      "20/20 [==============================] - 7s 339ms/step - loss: 0.1571 - accuracy: 0.9375\n",
      "Epoch 80/100\n",
      "20/20 [==============================] - 7s 326ms/step - loss: 0.1670 - accuracy: 0.9344\n",
      "Epoch 81/100\n",
      "20/20 [==============================] - 7s 352ms/step - loss: 0.2292 - accuracy: 0.8950\n",
      "Epoch 82/100\n",
      "20/20 [==============================] - 7s 345ms/step - loss: 0.2091 - accuracy: 0.9125\n",
      "Epoch 83/100\n",
      "20/20 [==============================] - 7s 341ms/step - loss: 0.2126 - accuracy: 0.9300\n",
      "Epoch 84/100\n",
      "20/20 [==============================] - 7s 331ms/step - loss: 0.2360 - accuracy: 0.8950\n",
      "Epoch 85/100\n",
      "20/20 [==============================] - 7s 340ms/step - loss: 0.2991 - accuracy: 0.8725\n",
      "Epoch 86/100\n",
      "20/20 [==============================] - 7s 338ms/step - loss: 0.1868 - accuracy: 0.9175\n",
      "Epoch 87/100\n",
      "20/20 [==============================] - 7s 341ms/step - loss: 0.3501 - accuracy: 0.8575\n",
      "Epoch 88/100\n",
      "20/20 [==============================] - 7s 338ms/step - loss: 0.3342 - accuracy: 0.8350\n",
      "Epoch 89/100\n",
      "20/20 [==============================] - 7s 323ms/step - loss: 0.2659 - accuracy: 0.8819\n",
      "Epoch 90/100\n",
      "20/20 [==============================] - 7s 337ms/step - loss: 1.7515 - accuracy: 0.6400\n",
      "Epoch 91/100\n",
      "20/20 [==============================] - 7s 341ms/step - loss: 0.7616 - accuracy: 0.7025\n",
      "Epoch 92/100\n",
      "20/20 [==============================] - 7s 324ms/step - loss: 0.6805 - accuracy: 0.7270\n",
      "Epoch 93/100\n",
      "20/20 [==============================] - 7s 338ms/step - loss: 0.5007 - accuracy: 0.7675\n",
      "Epoch 94/100\n",
      "20/20 [==============================] - 7s 338ms/step - loss: 0.4561 - accuracy: 0.8150\n",
      "Epoch 95/100\n",
      "20/20 [==============================] - 7s 341ms/step - loss: 0.3739 - accuracy: 0.8625\n",
      "Epoch 96/100\n",
      "20/20 [==============================] - 7s 322ms/step - loss: 0.3221 - accuracy: 0.8635\n",
      "Epoch 97/100\n",
      "20/20 [==============================] - 7s 324ms/step - loss: 0.3752 - accuracy: 0.8556\n",
      "Epoch 98/100\n",
      "20/20 [==============================] - 7s 340ms/step - loss: 0.2850 - accuracy: 0.9025\n",
      "Epoch 99/100\n",
      "20/20 [==============================] - 7s 345ms/step - loss: 0.3055 - accuracy: 0.9200\n",
      "Epoch 100/100\n",
      "20/20 [==============================] - 7s 326ms/step - loss: 0.3645 - accuracy: 0.8451\n"
     ]
    }
   ],
   "source": [
    "history = model.fit_generator(train_generator, steps_per_epoch=20, epochs=100)"
   ]
  },
  {
   "cell_type": "markdown",
   "metadata": {},
   "source": [
    "### visualization"
   ]
  },
  {
   "cell_type": "code",
   "execution_count": 17,
   "metadata": {},
   "outputs": [
    {
     "data": {
      "image/png": "[encoded data removed]",
      "text/plain": [
       "<Figure size 432x288 with 1 Axes>"
      ]
     },
     "metadata": {
      "needs_background": "light"
     },
     "output_type": "display_data"
    }
   ],
   "source": [
    "y_loss = history.history[\"loss\"]\n",
    "\n",
    "x_len = np.arange(len(y_loss))\n",
    "plt.plot(x_len, y_loss, marker=\".\", c=\"blue\", label=\"Trainset_loss\")\n",
    "\n",
    "plt.legend(loc=\"upper right\")\n",
    "plt.grid()\n",
    "plt.xlabel(\"epoch\")\n",
    "plt.ylabel(\"loss\")\n",
    "plt.savefig(f\"{name}.png\")"
   ]
  },
  {
   "cell_type": "markdown",
   "metadata": {},
   "source": [
    "### save"
   ]
  },
  {
   "cell_type": "code",
   "execution_count": 18,
   "metadata": {},
   "outputs": [],
   "source": [
    "model.save(f\"{name}.h5\")"
   ]
  }
 ],
 "metadata": {
  "interpreter": {
   "hash": "b3ba2566441a7c06988d0923437866b63cedc61552a5af99d1f4fb67d367b25f"
  },
  "kernelspec": {
   "display_name": "Python 3.9.7 ('base')",
   "language": "python",
   "name": "python3"
  },
  "language_info": {
   "codemirror_mode": {
    "name": "ipython",
    "version": 3
   },
   "file_extension": ".py",
   "mimetype": "text/x-python",
   "name": "python",
   "nbconvert_exporter": "python",
   "pygments_lexer": "ipython3",
   "version": "3.9.7"
  },
  "orig_nbformat": 4
 },
 "nbformat": 4,
 "nbformat_minor": 2
}
