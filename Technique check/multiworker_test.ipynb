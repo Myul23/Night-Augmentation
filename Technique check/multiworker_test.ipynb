{
 "cells": [
  {
   "cell_type": "code",
   "execution_count": 1,
   "metadata": {},
   "outputs": [],
   "source": [
    "import time\n",
    "\n",
    "import numpy as np\n",
    "import tensorflow as tf\n",
    "from tensorflow.python.client import device_lib\n",
    "\n",
    "from tensorflow.keras.datasets.mnist import load_data\n",
    "from tensorflow.keras.models import Sequential\n",
    "from tensorflow.keras.layers import Flatten, Dense\n",
    "\n",
    "import matplotlib.pyplot as plt\n",
    "\n",
    "%matplotlib inline"
   ]
  },
  {
   "cell_type": "code",
   "execution_count": null,
   "metadata": {},
   "outputs": [],
   "source": [
    "device_lib.list_local_devices()"
   ]
  },
  {
   "cell_type": "code",
   "execution_count": 2,
   "metadata": {},
   "outputs": [
    {
     "name": "stdout",
     "output_type": "stream",
     "text": [
      "INFO:tensorflow:Single-worker MultiWorkerMirroredStrategy with local_devices = ('/device:GPU:0',), communication = CommunicationImplementation.AUTO\n"
     ]
    }
   ],
   "source": [
    "strategy = tf.distribute.MultiWorkerMirroredStrategy()\n",
    "strategy = tf.distribute.MirroredStrategy(devices=[\"/GPU:0\", \"/GPU:3\"])"
   ]
  },
  {
   "cell_type": "code",
   "execution_count": 3,
   "metadata": {},
   "outputs": [],
   "source": [
    "class simpleCNN():\n",
    "    def __init__(self):\n",
    "        (self.X_train, self.Y_train), (self.X_test, self.Y_test) = load_data()\n",
    "        self.X_train = self.X_train.astype(\"float32\") / 255\n",
    "        self.X_test = self.X_test.astype(\"float32\") / 255\n",
    "        self.model = self.modeling()\n",
    "\n",
    "    def modeling(self):\n",
    "        model = Sequential()\n",
    "        model.add(Flatten(input_shape=(28, 28)))\n",
    "        model.add(Dense(128, activation=\"relu\"))\n",
    "        model.add(Dense(10, activation=\"softmax\"))\n",
    "\n",
    "        model.compile(loss=\"sparse_categorical_crossentropy\", optimizer=\"adam\", metrics=[\"accuracy\"])\n",
    "        return model\n",
    "\n",
    "    def train(self, epoch):\n",
    "        history = self.model.fit(self.X_train, self.Y_train, validation_data=(self.X_test, self.Y_test), batch_size=64, epochs=epoch)\n",
    "        return history"
   ]
  },
  {
   "cell_type": "code",
   "execution_count": 4,
   "metadata": {},
   "outputs": [
    {
     "name": "stdout",
     "output_type": "stream",
     "text": [
      "Epoch 1/10\n",
      "1875/1875 [==============================] - 8s 3ms/step - loss: 0.2609 - accuracy: 0.9254 - val_loss: 0.1445 - val_accuracy: 0.9576\n",
      "Epoch 2/10\n",
      "1875/1875 [==============================] - 5s 3ms/step - loss: 0.1167 - accuracy: 0.9656 - val_loss: 0.1014 - val_accuracy: 0.9687\n",
      "Epoch 3/10\n",
      "1875/1875 [==============================] - 5s 3ms/step - loss: 0.0802 - accuracy: 0.9759 - val_loss: 0.0960 - val_accuracy: 0.9709\n",
      "Epoch 4/10\n",
      "1875/1875 [==============================] - 5s 3ms/step - loss: 0.0592 - accuracy: 0.9821 - val_loss: 0.0862 - val_accuracy: 0.9754\n",
      "Epoch 5/10\n",
      "1875/1875 [==============================] - 5s 3ms/step - loss: 0.0457 - accuracy: 0.9859 - val_loss: 0.0808 - val_accuracy: 0.9763\n",
      "Epoch 6/10\n",
      "1875/1875 [==============================] - 5s 3ms/step - loss: 0.0365 - accuracy: 0.9886 - val_loss: 0.0868 - val_accuracy: 0.9746\n",
      "Epoch 7/10\n",
      "1875/1875 [==============================] - 5s 3ms/step - loss: 0.0291 - accuracy: 0.9912 - val_loss: 0.0771 - val_accuracy: 0.9767\n",
      "Epoch 8/10\n",
      "1875/1875 [==============================] - 5s 3ms/step - loss: 0.0230 - accuracy: 0.9931 - val_loss: 0.0768 - val_accuracy: 0.9779\n",
      "Epoch 9/10\n",
      "1875/1875 [==============================] - 5s 3ms/step - loss: 0.0212 - accuracy: 0.9935 - val_loss: 0.0877 - val_accuracy: 0.9768\n",
      "Epoch 10/10\n",
      "1875/1875 [==============================] - 5s 3ms/step - loss: 0.0159 - accuracy: 0.9949 - val_loss: 0.0836 - val_accuracy: 0.9770\n"
     ]
    }
   ],
   "source": [
    "times = time.time()\n",
    "with strategy.scope():\n",
    "    model = simpleCNN()\n",
    "history = model.train(100)\n",
    "times = time.time() - times"
   ]
  },
  {
   "cell_type": "code",
   "execution_count": 5,
   "metadata": {},
   "outputs": [
    {
     "data": {
      "image/png": "[encoded data removed]",
      "text/plain": [
       "<Figure size 432x288 with 1 Axes>"
      ]
     },
     "metadata": {
      "needs_background": "light"
     },
     "output_type": "display_data"
    }
   ],
   "source": [
    "y_vloss = history.history[\"val_loss\"]\n",
    "y_loss = history.history[\"loss\"]\n",
    "\n",
    "x_len = np.arange(len(y_loss))\n",
    "plt.plot(x_len, y_vloss, marker=\".\", c=\"red\", label=\"Testset_loss\")\n",
    "plt.plot(x_len, y_loss, marker=\".\", c=\"blue\", label=\"Trainset_loss\")\n",
    "\n",
    "plt.legend(loc=\"upper right\")\n",
    "plt.grid()\n",
    "plt.xlabel(\"epoch\")\n",
    "plt.ylabel(\"loss\")\n",
    "plt.savefig(f\"{round(times, 4)}.png\")"
   ]
  }
 ],
 "metadata": {
  "interpreter": {
   "hash": "b3ba2566441a7c06988d0923437866b63cedc61552a5af99d1f4fb67d367b25f"
  },
  "kernelspec": {
   "display_name": "Python 3.9.7 ('base')",
   "language": "python",
   "name": "python3"
  },
  "language_info": {
   "codemirror_mode": {
    "name": "ipython",
    "version": 3
   },
   "file_extension": ".py",
   "mimetype": "text/x-python",
   "name": "python",
   "nbconvert_exporter": "python",
   "pygments_lexer": "ipython3",
   "version": "3.9.7"
  },
  "orig_nbformat": 4
 },
 "nbformat": 4,
 "nbformat_minor": 2
}
